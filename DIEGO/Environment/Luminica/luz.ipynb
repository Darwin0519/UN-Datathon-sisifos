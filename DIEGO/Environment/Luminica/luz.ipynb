{
 "cells": [
  {
   "cell_type": "code",
   "execution_count": 50,
   "metadata": {},
   "outputs": [],
   "source": [
    "import numpy as np\n",
    "import pandas as pd\n",
    "import matplotlib.pyplot as plt"
   ]
  },
  {
   "cell_type": "code",
   "execution_count": 51,
   "metadata": {},
   "outputs": [],
   "source": [
    "luz = pd.read_csv(\"Consumo_energetico_luminarias.csv\")"
   ]
  },
  {
   "cell_type": "code",
   "execution_count": 52,
   "metadata": {},
   "outputs": [],
   "source": [
    "luz[\"periodo\"] = pd.to_datetime(luz[\"periodo\"], format=\"%d/%m/%Y\")\n",
    "luz[\"porcentaje_luminarias_por_comuna\"] =luz[\"porcentaje_luminarias_por_comuna\"].apply(lambda x: x.replace(\"%\", \"\")).astype(float)\n",
    "luz[\"inversion_por_comuna\"] = luz[\"inversion_por_comuna\"].apply(lambda x: x.replace(\",\",\".\")).astype(float)"
   ]
  },
  {
   "cell_type": "code",
   "execution_count": 53,
   "metadata": {},
   "outputs": [],
   "source": [
    "import geopandas as gpd\n",
    "geo_df = gpd.read_file(\"comunas_y_corregimientos.geojson\")\n",
    "geo_df = geo_df.drop([19,21],axis = 0)\n",
    "geo_df = geo_df.astype({\"codigo\":\"int64\"})\n",
    "geo_df.set_index(\"codigo\",inplace=True)"
   ]
  },
  {
   "cell_type": "code",
   "execution_count": 54,
   "metadata": {},
   "outputs": [],
   "source": [
    "luz.rename(columns={\"id_comuna\":\"codigo\"},inplace=True)"
   ]
  },
  {
   "cell_type": "code",
   "execution_count": 55,
   "metadata": {},
   "outputs": [],
   "source": [
    "geo_df = geo_df.merge(luz,on=\"codigo\")"
   ]
  },
  {
   "cell_type": "code",
   "execution_count": 49,
   "metadata": {},
   "outputs": [],
   "source": [
    "geo_df.to_file(\"luminarias.json\",driver=\"GeoJSON\")"
   ]
  }
 ],
 "metadata": {
  "kernelspec": {
   "display_name": "Central",
   "language": "python",
   "name": "python3"
  },
  "language_info": {
   "codemirror_mode": {
    "name": "ipython",
    "version": 3
   },
   "file_extension": ".py",
   "mimetype": "text/x-python",
   "name": "python",
   "nbconvert_exporter": "python",
   "pygments_lexer": "ipython3",
   "version": "3.12.3"
  }
 },
 "nbformat": 4,
 "nbformat_minor": 2
}
